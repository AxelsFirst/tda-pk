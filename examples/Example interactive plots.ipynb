{
 "cells": [
  {
   "cell_type": "code",
   "execution_count": 1,
   "id": "74b70caf",
   "metadata": {},
   "outputs": [],
   "source": [
    "import os\n",
    "import sys\n",
    "import random\n",
    "import ipywidgets as widgets\n",
    "\n",
    "from string import ascii_uppercase as letters\n",
    "from ipywidgets import interact, interactive, fixed, interact_manual"
   ]
  },
  {
   "cell_type": "code",
   "execution_count": 2,
   "id": "98c06922",
   "metadata": {},
   "outputs": [],
   "source": [
    "sys.path.append(os.path.join(os.getcwd(), '..'))"
   ]
  },
  {
   "cell_type": "code",
   "execution_count": 3,
   "id": "fe12b287",
   "metadata": {},
   "outputs": [],
   "source": [
    "from tda.metrics import euclidean_metric\n",
    "from tda.point import Point\n",
    "from tda.vr_complex import VietorisRipsComplex\n",
    "from tda.plots import plot_graph, plot_faces, plot_simplices"
   ]
  },
  {
   "cell_type": "code",
   "execution_count": 4,
   "id": "d8e5fe31",
   "metadata": {},
   "outputs": [],
   "source": [
    "random.seed(42)\n",
    "pts = list()\n",
    "for i in range(len(letters) // 2):\n",
    "    coords = [random.random() for _ in range(2)]\n",
    "    pts.append(Point(name=letters[i], coords=coords))"
   ]
  },
  {
   "cell_type": "code",
   "execution_count": 5,
   "id": "bf0048e1",
   "metadata": {},
   "outputs": [],
   "source": [
    "vrc = VietorisRipsComplex(\n",
    "    points=pts,\n",
    "    epsilon=1,\n",
    "    metric=euclidean_metric\n",
    ")"
   ]
  },
  {
   "cell_type": "code",
   "execution_count": 6,
   "id": "0edbe650",
   "metadata": {},
   "outputs": [],
   "source": [
    "def plot_graph_interactive(epsilon):\n",
    "    vrc.change_epsilon(epsilon)\n",
    "    plot_graph(complex=vrc, draw_ball=True, ball_color='gray')"
   ]
  },
  {
   "cell_type": "code",
   "execution_count": 7,
   "id": "cf73673d",
   "metadata": {},
   "outputs": [
    {
     "data": {
      "application/vnd.jupyter.widget-view+json": {
       "model_id": "5ad5f12a751d403aa01a6660449350c9",
       "version_major": 2,
       "version_minor": 0
      },
      "text/plain": [
       "interactive(children=(FloatSlider(value=0.5, description='epsilon', max=1.01, min=0.01), Output()), _dom_class…"
      ]
     },
     "metadata": {},
     "output_type": "display_data"
    },
    {
     "data": {
      "text/plain": [
       "<function __main__.plot_graph_interactive(epsilon)>"
      ]
     },
     "execution_count": 7,
     "metadata": {},
     "output_type": "execute_result"
    }
   ],
   "source": [
    "interact(\n",
    "    plot_graph_interactive, \n",
    "    epsilon=widgets.FloatSlider(min=0.01, max=1.01, step=0.10, value=1/2)\n",
    ")"
   ]
  },
  {
   "cell_type": "code",
   "execution_count": 8,
   "id": "5f26739d",
   "metadata": {},
   "outputs": [],
   "source": [
    "vrc = VietorisRipsComplex(\n",
    "    points=pts,\n",
    "    epsilon=1,\n",
    "    metric=euclidean_metric\n",
    ")"
   ]
  },
  {
   "cell_type": "code",
   "execution_count": 9,
   "id": "bf188362",
   "metadata": {},
   "outputs": [],
   "source": [
    "def plot_faces_interactive(epsilon, dim):\n",
    "    vrc.change_epsilon(epsilon)\n",
    "    plot_faces(\n",
    "        complex=vrc,\n",
    "        face_dimension=dim,\n",
    "        face_color='blue',\n",
    "    )    "
   ]
  },
  {
   "cell_type": "code",
   "execution_count": 10,
   "id": "b28602a3",
   "metadata": {
    "scrolled": false
   },
   "outputs": [
    {
     "data": {
      "application/vnd.jupyter.widget-view+json": {
       "model_id": "c708abe7227b4a0eb9919629f25668b5",
       "version_major": 2,
       "version_minor": 0
      },
      "text/plain": [
       "interactive(children=(FloatSlider(value=0.5, description='epsilon', max=1.01, min=0.01), IntSlider(value=2, de…"
      ]
     },
     "metadata": {},
     "output_type": "display_data"
    },
    {
     "data": {
      "text/plain": [
       "<function __main__.plot_faces_interactive(epsilon, dim)>"
      ]
     },
     "execution_count": 10,
     "metadata": {},
     "output_type": "execute_result"
    }
   ],
   "source": [
    "interact(\n",
    "    plot_faces_interactive, \n",
    "    epsilon=widgets.FloatSlider(min=0.01, max=1.01, step=0.10, value=1/2),\n",
    "    dim=widgets.IntSlider(min=2, max=5, step=1, value=2)\n",
    ")"
   ]
  },
  {
   "cell_type": "code",
   "execution_count": 11,
   "id": "e376a7e5",
   "metadata": {},
   "outputs": [],
   "source": [
    "vrc = VietorisRipsComplex(\n",
    "    points=pts,\n",
    "    epsilon=1/2,\n",
    "    metric=euclidean_metric\n",
    ")"
   ]
  },
  {
   "cell_type": "code",
   "execution_count": 12,
   "id": "5efc3aa0",
   "metadata": {},
   "outputs": [],
   "source": [
    "def plot_simplices_interactive(epsilon):\n",
    "    vrc.change_epsilon(epsilon)\n",
    "    plot_simplices(complex=vrc, simplex_color='red')    "
   ]
  },
  {
   "cell_type": "code",
   "execution_count": 13,
   "id": "38ea50b2",
   "metadata": {},
   "outputs": [
    {
     "data": {
      "application/vnd.jupyter.widget-view+json": {
       "model_id": "aa9b5994753c480c9cf292fde7d30d15",
       "version_major": 2,
       "version_minor": 0
      },
      "text/plain": [
       "interactive(children=(FloatSlider(value=0.5, description='epsilon', max=1.01, min=0.01), Output()), _dom_class…"
      ]
     },
     "metadata": {},
     "output_type": "display_data"
    },
    {
     "data": {
      "text/plain": [
       "<function __main__.plot_simplices_interactive(epsilon)>"
      ]
     },
     "execution_count": 13,
     "metadata": {},
     "output_type": "execute_result"
    }
   ],
   "source": [
    "interact(\n",
    "    plot_simplices_interactive, \n",
    "    epsilon=widgets.FloatSlider(min=0.01, max=1.01, step=0.10, value=1/2)\n",
    ")"
   ]
  }
 ],
 "metadata": {
  "kernelspec": {
   "display_name": "Python 3.8.10 64-bit",
   "language": "python",
   "name": "python3810jvsc74a57bd031f2aee4e71d21fbe5cf8b01ff0e069b9275f58929596ceb00d14d90e3e16cd6"
  },
  "language_info": {
   "codemirror_mode": {
    "name": "ipython",
    "version": 3
   },
   "file_extension": ".py",
   "mimetype": "text/x-python",
   "name": "python",
   "nbconvert_exporter": "python",
   "pygments_lexer": "ipython3",
   "version": "3.8.10"
  }
 },
 "nbformat": 4,
 "nbformat_minor": 5
}
